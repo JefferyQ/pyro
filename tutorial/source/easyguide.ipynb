{
 "cells": [
  {
   "cell_type": "markdown",
   "metadata": {},
   "source": [
    "# Writing guides using EasyGuide\n",
    "\n",
    "### Summary:\n",
    "- For simple black-box guides, try `pyro.contrib.autoguide`.\n",
    "- For more complex guides, use `pyro.contrib.easyguide`.\n",
    "- Decorate with `@easy_guide(model)`.\n",
    "- Select multiple model sites using `group = self.group(match=\"my_regex\")`.\n",
    "- Guide a group of sites by a single distribution using `group.sample(...)`.\n",
    "- Inspect concatenated group shape using `group.batch_shape`, `group.event_shape`, etc.\n",
    "- Use `self.param(...)` instead of `pyro.param(...)`.\n",
    "- To be compatible with subsampling, pass the `event_dim` arg to `pyro.param(...)`.\n",
    "- MAP estimate model site \"foo\" using `foo = self.map_estimate(\"foo\")`."
   ]
  },
  {
   "cell_type": "code",
   "execution_count": null,
   "metadata": {},
   "outputs": [],
   "source": [
    "import torch\n",
    "import pyro\n",
    "import pyro.distributions as dist\n",
    "from pyro.contrib.easyguide import easy_guide, numel"
   ]
  },
  {
   "cell_type": "markdown",
   "metadata": {},
   "source": [
    "Consider a time-series model with a slowly-varying continuous latent state and Bernoulli observations with a logistic link function."
   ]
  },
  {
   "cell_type": "code",
   "execution_count": null,
   "metadata": {},
   "outputs": [],
   "source": [
    "def model(batch, full_size):\n",
    "    batch_size, num_time_steps = batch.shape\n",
    "    drift = pyro.sample(\"drift\", dist.LogNormal(-1, 1))\n",
    "    with pyro.plate(\"data\", full_size, subsample=batch):\n",
    "        z = 0.\n",
    "        for t in range(1, num_time_steps):\n",
    "            z = pyro.sample(\"state_{}\".format(t),\n",
    "                            dist.Normal(z, 10. if t == 0 else drift))\n",
    "            batch[t] = pyro.sample(\"obs_{}\".format(t),\n",
    "                                   dist.Bernoulli(logits=z),\n",
    "                                   obs=batch[t])\n",
    "    return batch"
   ]
  },
  {
   "cell_type": "code",
   "execution_count": null,
   "metadata": {},
   "outputs": [],
   "source": [
    "@easy_guide(model)\n",
    "def guide(self, batch, full_size):\n",
    "    drift = self.map_estimate(\"drift_loc\")\n",
    "\n",
    "    group = self.group(match=\"state_.*\")\n",
    "    cov_diag = pyro.param(\"state_cov_diag\",\n",
    "                          lambda: torch.full(group.event_shape, 0.01))\n",
    "    cov_factor = pyro.param(\"state_cov_factor\",\n",
    "                            lambda: torch.full(group.event_shape + (rank,), 0.01))\n",
    "    with pyro.plate(\"data\", full_size, subsample=batch):\n",
    "        loc = pyro.param(\"state_loc\",\n",
    "                         lambda: torch.full(group.full_shape + group.event_shape, 0.5),\n",
    "                         event_dim=1)\n",
    "        group.sample(\"states\", dist.LowRankMultivariateNormal(loc, cov_diag, cov_factor))"
   ]
  },
  {
   "cell_type": "markdown",
   "metadata": {},
   "source": [
    "Next consider an amortized guide."
   ]
  },
  {
   "cell_type": "code",
   "execution_count": null,
   "metadata": {},
   "outputs": [],
   "source": [
    "@easy_guide(model)\n",
    "def guide(self, batch, full_size):\n",
    "    drift = self.map_estimate(\"drift_loc\")\n",
    "\n",
    "    group = self.group(match=\"state_.*\")\n",
    "    if not hasattr(self, \"nn\"):\n",
    "        self.nn = torch.nn.Linear(numel(group.event_shape))\n",
    "        self.nn.weight.data.fill_(2.0)\n",
    "        self.nn.bias.data.fill_(-1.)\n",
    "    loc = self.nn(batch)\n",
    "    cov_diag = pyro.param(\"state_cov_diag\",\n",
    "                          lambda: torch.full(group.event_shape, 0.01))\n",
    "    cov_factor = pyro.param(\"state_cov_factor\",\n",
    "                            lambda: torch.full(group.event_shape + (rank,), 0.01))\n",
    "    with pyro.plate(\"data\", full_size, subsample=batch):\n",
    "        group.sample(\"states\", dist.LowRankMultivariateNormal(loc, cov_diag, cov_factor))"
   ]
  },
  {
   "cell_type": "code",
   "execution_count": null,
   "metadata": {},
   "outputs": [],
   "source": []
  }
 ],
 "metadata": {
  "kernelspec": {
   "display_name": "Python 3",
   "language": "python",
   "name": "python3"
  },
  "language_info": {
   "codemirror_mode": {
    "name": "ipython",
    "version": 3
   },
   "file_extension": ".py",
   "mimetype": "text/x-python",
   "name": "python",
   "nbconvert_exporter": "python",
   "pygments_lexer": "ipython3",
   "version": "3.7.2"
  }
 },
 "nbformat": 4,
 "nbformat_minor": 2
}
